{
 "cells": [
  {
   "cell_type": "markdown",
   "metadata": {},
   "source": [
    "# 需求描述\n",
    "1. 国家是否扶持\n",
    "    * 找industry (boolean)\n",
    "    * 更改后续权重\n",
    "3. 市净率\n",
    "    * 小于20%\n",
    "4. 是否盈利\n",
    "    * 是\n",
    "5. 找市值\n",
    "    * 超过100亿\n",
    "    * 不看超过2500"
   ]
  },
  {
   "cell_type": "markdown",
   "metadata": {},
   "source": [
    "## 国家是否扶持"
   ]
  },
  {
   "cell_type": "code",
   "execution_count": 56,
   "metadata": {},
   "outputs": [],
   "source": [
    "def industry_check(stock, dict, ind=['Electronic Components', 'Metal Fabrication']):\n",
    "    dict['industry'] = stock.info['industry']\n",
    "    return stock.info['industry'] in ind"
   ]
  },
  {
   "cell_type": "markdown",
   "metadata": {},
   "source": [
    "## 市净率 (P/B Ratio)"
   ]
  },
  {
   "cell_type": "code",
   "execution_count": 72,
   "metadata": {},
   "outputs": [],
   "source": [
    "def pb_check(stock, dict, cutoff=20):\n",
    "    if 'priceToBook' in stock.info:\n",
    "        dict['priceToBook'] = stock.info['priceToBook']\n",
    "        return stock.info['priceToBook'] < cutoff\n",
    "    else:\n",
    "        print('错误：数据源未提供市净率')\n",
    "        return False"
   ]
  },
  {
   "cell_type": "markdown",
   "metadata": {},
   "source": [
    "## 是否盈利"
   ]
  },
  {
   "cell_type": "code",
   "execution_count": 73,
   "metadata": {},
   "outputs": [],
   "source": [
    "def profitable_check(stock, dict, key='profitMargins'):\n",
    "    if key in stock.info:\n",
    "        dict[key] = stock.info[key]\n",
    "        return stock.info[key]\n",
    "    else:\n",
    "        print('错误：数据源未提供盈利数据')\n",
    "        return False"
   ]
  },
  {
   "cell_type": "markdown",
   "metadata": {},
   "source": [
    "## 找市值"
   ]
  },
  {
   "cell_type": "code",
   "execution_count": 74,
   "metadata": {},
   "outputs": [],
   "source": [
    "import math\n",
    "\n",
    "def cap_check(stock, dict, min=100, max=2500):\n",
    "    yi = math.pow(10, 8) # 一亿\n",
    "    if 'marketCap' in stock.info:\n",
    "        dict['marketCap'] = stock.info['marketCap'] / yi\n",
    "        return (stock.info['marketCap'] >= min * yi) & (stock.info['marketCap'] <= max * yi)\n",
    "    else:\n",
    "        print('错误：数据源未提供市值')\n",
    "        return False"
   ]
  },
  {
   "cell_type": "code",
   "execution_count": 57,
   "metadata": {},
   "outputs": [],
   "source": [
    "# 基础分析\n",
    "import yfinance as yf\n",
    "\n",
    "def fundamental(ticker, debug=False):\n",
    "    stock = yf.Ticker(ticker)\n",
    "    out = { 'ok': True }\n",
    "    # if industry_check(stock, out) == False:\n",
    "    #     if debug: print('产业不符合条件')\n",
    "    #     out['ok'] = False\n",
    "    if pb_check(stock, out) == False:\n",
    "        if debug: print('市净率不符合条件')\n",
    "        out['ok'] = False\n",
    "    elif profitable_check(stock, out) == False:\n",
    "        if debug: print('当前未盈利')\n",
    "        out['ok'] = False\n",
    "    elif cap_check(stock, out) == False:\n",
    "        if debug: print('市值不符合条件')\n",
    "        out['ok'] = False\n",
    "\n",
    "    if debug & out['ok']: \n",
    "        print('%s满足长线条件...'%stock.info['shortName'])\n",
    "    return out\n",
    "# def fundamental(ticker, debug=False):\n",
    "#     stock = yf.Ticker(ticker)\n",
    "#     out = calculate_stock(stock, debug)\n",
    "#     if out: print(out)\n",
    "\n",
    "def fundamentals(tickers, debug=False):\n",
    "    stocks = yf.Ticker(tickers).tickers\n",
    "    out = {}\n",
    "    for stock in stocks:\n",
    "        out[stock.ticker] = calculate_stock(stock, debug)\n",
    "    print(out)\n",
    "\n",
    "def calculate_stock(stock, debug=False):\n",
    "    out = {}\n",
    "    if industry_check(stock, out) == False:\n",
    "        if debug: print('%s的产业不符合条件'%stock.ticker)\n",
    "        return False\n",
    "    elif pb_check(stock, out) == False:\n",
    "        if debug: print('%s的市净率不符合条件'%stock.ticker)\n",
    "        return False\n",
    "    elif profitable_check(stock, out) == False:\n",
    "        if debug: print('%s的当前未盈利'%stock.ticker)\n",
    "        return False\n",
    "    elif cap_check(stock, out) == False:\n",
    "        if debug: print('%s的市值不符合条件'%stock.ticker)\n",
    "        return False\n",
    "\n",
    "    if debug: print('%满足长线条件...'%stock.info['shortName'])\n",
    "    return out\n",
    "    "
   ]
  },
  {
   "cell_type": "code",
   "execution_count": 46,
   "metadata": {},
   "outputs": [],
   "source": [
    "# 测试\n",
    "import yfinance as yf\n",
    "stock = yf.Ticker('MSFT')"
   ]
  },
  {
   "cell_type": "code",
   "execution_count": 79,
   "metadata": {},
   "outputs": [
    {
     "name": "stdout",
     "output_type": "stream",
     "text": [
      "NORTH NAVIGATION CONTROL TECHNO满足长线条件...\n"
     ]
    },
    {
     "data": {
      "text/plain": [
       "{'ok': True,\n",
       " 'priceToBook': 7.6830187,\n",
       " 'profitMargins': 0.03513,\n",
       " 'marketCap': 151.6127744}"
      ]
     },
     "execution_count": 79,
     "metadata": {},
     "output_type": "execute_result"
    }
   ],
   "source": [
    "fundamental('600435.SS', True)"
   ]
  }
 ],
 "metadata": {
  "interpreter": {
   "hash": "c0b904da3c79e60b03275d405e15e4e7397ab048218fb7d72b8ac1edb3c708e5"
  },
  "kernelspec": {
   "display_name": "Python 3.8.0 64-bit ('StockMarketAnalysis': venv)",
   "name": "python3"
  },
  "language_info": {
   "codemirror_mode": {
    "name": "ipython",
    "version": 3
   },
   "file_extension": ".py",
   "mimetype": "text/x-python",
   "name": "python",
   "nbconvert_exporter": "python",
   "pygments_lexer": "ipython3",
   "version": "3.8.0"
  },
  "orig_nbformat": 4
 },
 "nbformat": 4,
 "nbformat_minor": 2
}
