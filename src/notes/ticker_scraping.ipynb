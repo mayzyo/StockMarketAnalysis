{
 "cells": [
  {
   "cell_type": "code",
   "execution_count": 1,
   "metadata": {},
   "outputs": [],
   "source": [
    "import requests\n",
    "from bs4 import BeautifulSoup\n",
    "from requests_html import HTMLSession"
   ]
  },
  {
   "cell_type": "code",
   "execution_count": 2,
   "metadata": {},
   "outputs": [],
   "source": [
    "session = HTMLSession()\n",
    "\n",
    "try:\n",
    "    response = session.get('http://data.10jqka.com.cn/funds/hyzjl/')\n",
    "     \n",
    "except requests.exceptions.RequestException as e:\n",
    "    print(e)"
   ]
  },
  {
   "cell_type": "code",
   "execution_count": 3,
   "metadata": {},
   "outputs": [
    {
     "name": "stdout",
     "output_type": "stream",
     "text": [
      "{'轨交设备': 'http://q.10jqka.com.cn/thshy/detail/code/881269/', '汽车整车': 'http://q.10jqka.com.cn/thshy/detail/code/881125/', '军工装备': 'http://q.10jqka.com.cn/thshy/detail/code/881166/', '电机': 'http://q.10jqka.com.cn/thshy/detail/code/881277/', '公路铁路运输': 'http://q.10jqka.com.cn/thshy/detail/code/881149/', '半导体': 'http://q.10jqka.com.cn/thshy/detail/code/881121/', '教育': 'http://q.10jqka.com.cn/thshy/detail/code/881178/', '中药': 'http://q.10jqka.com.cn/thshy/detail/code/881141/', '军工电子': 'http://q.10jqka.com.cn/thshy/detail/code/881276/', '汽车服务及其他': 'http://q.10jqka.com.cn/thshy/detail/code/881128/', '贵金属': 'http://q.10jqka.com.cn/thshy/detail/code/881169/', '其他电子': 'http://q.10jqka.com.cn/thshy/detail/code/881123/', '贸易': 'http://q.10jqka.com.cn/thshy/detail/code/881159/', '建筑装饰': 'http://q.10jqka.com.cn/thshy/detail/code/881116/', '白色家电': 'http://q.10jqka.com.cn/thshy/detail/code/881131/', '化学制药': 'http://q.10jqka.com.cn/thshy/detail/code/881140/', '综合': 'http://q.10jqka.com.cn/thshy/detail/code/881165/', '包装印刷': 'http://q.10jqka.com.cn/thshy/detail/code/881138/', '通信设备': 'http://q.10jqka.com.cn/thshy/detail/code/881129/', '专用设备': 'http://q.10jqka.com.cn/thshy/detail/code/881118/', '通信服务': 'http://q.10jqka.com.cn/thshy/detail/code/881162/', '港口航运': 'http://q.10jqka.com.cn/thshy/detail/code/881148/', '其他电源设备': 'http://q.10jqka.com.cn/thshy/detail/code/881282/', '光学光电子': 'http://q.10jqka.com.cn/thshy/detail/code/881122/', '通用设备': 'http://q.10jqka.com.cn/thshy/detail/code/881117/', '汽车零部件': 'http://q.10jqka.com.cn/thshy/detail/code/881126/', '自动化设备': 'http://q.10jqka.com.cn/thshy/detail/code/881171/', '机场航运': 'http://q.10jqka.com.cn/thshy/detail/code/881151/', '元件': 'http://q.10jqka.com.cn/thshy/detail/code/881270/', '油气开采及服务': 'http://q.10jqka.com.cn/thshy/detail/code/881107/', '环保设备': 'http://q.10jqka.com.cn/thshy/detail/code/881284/', '电子化学品': 'http://q.10jqka.com.cn/thshy/detail/code/881172/', '石油加工贸易': 'http://q.10jqka.com.cn/thshy/detail/code/881180/', '金属新材料': 'http://q.10jqka.com.cn/thshy/detail/code/881114/', 'IT服务': 'http://q.10jqka.com.cn/thshy/detail/code/881271/', '医疗服务': 'http://q.10jqka.com.cn/thshy/detail/code/881175/', '厨卫电器': 'http://q.10jqka.com.cn/thshy/detail/code/881174/', '电网设备': 'http://q.10jqka.com.cn/thshy/detail/code/881278/', '塑料制品': 'http://q.10jqka.com.cn/thshy/detail/code/881265/', '证券': 'http://q.10jqka.com.cn/thshy/detail/code/881157/', '保险': 'http://q.10jqka.com.cn/thshy/detail/code/881156/', '软件开发': 'http://q.10jqka.com.cn/thshy/detail/code/881272/', '黑色家电': 'http://q.10jqka.com.cn/thshy/detail/code/881132/', '工业金属': 'http://q.10jqka.com.cn/thshy/detail/code/881168/', '银行': 'http://q.10jqka.com.cn/thshy/detail/code/881155/', '计算机设备': 'http://q.10jqka.com.cn/thshy/detail/code/881130/', '种植业与林业': 'http://q.10jqka.com.cn/thshy/detail/code/881101/', '互联网电商': 'http://q.10jqka.com.cn/thshy/detail/code/881177/', '电力': 'http://q.10jqka.com.cn/thshy/detail/code/881145/', '其他社会服务': 'http://q.10jqka.com.cn/thshy/detail/code/881179/'}\n"
     ]
    }
   ],
   "source": [
    "tbl = BeautifulSoup(response.html.full_text, 'html.parser').find('table').find('tbody')\n",
    "industries = dict()\n",
    "\n",
    "for child in tbl:\n",
    "    a = child.find('a')\n",
    "    if a != -1:\n",
    "        industries[a.contents[0]] = a.get('href')\n",
    "\n",
    "print(industries)"
   ]
  },
  {
   "cell_type": "code",
   "execution_count": 5,
   "metadata": {},
   "outputs": [],
   "source": [
    "try:\n",
    "    response = session.get(industries['军工装备'])\n",
    "     \n",
    "except requests.exceptions.RequestException as e:\n",
    "    print(e)"
   ]
  },
  {
   "cell_type": "code",
   "execution_count": 6,
   "metadata": {},
   "outputs": [
    {
     "name": "stdout",
     "output_type": "stream",
     "text": [
      "300424\n",
      "航新科技\n",
      "\n",
      "688066\n",
      "航天宏图\n",
      "\n",
      "002829\n",
      "星网宇达\n",
      "\n",
      "300922\n",
      "天秦装备\n",
      "\n",
      "871642\n",
      "通易航天\n",
      "\n",
      "688287\n",
      "观典防务\n",
      "\n",
      "688523\n",
      "航天环宇\n",
      "\n",
      "300581\n",
      "晨曦航空\n",
      "\n",
      "600764\n",
      "中国海防\n",
      "\n",
      "300875\n",
      "捷强装备\n",
      "\n",
      "688070\n",
      "纵横股份\n",
      "\n",
      "603261\n",
      "立航科技\n",
      "\n",
      "300719\n",
      "安达维尔\n",
      "\n",
      "688239\n",
      "航宇科技\n",
      "\n",
      "002389\n",
      "航天彩虹\n",
      "\n",
      "301357\n",
      "北方长龙\n",
      "\n",
      "688237\n",
      "超卓航科\n",
      "\n",
      "300900\n",
      "广联航空\n",
      "\n",
      "688586\n",
      "江航装备\n",
      "\n",
      "600685\n",
      "中船防务\n",
      "\n"
     ]
    }
   ],
   "source": [
    "# # BeautifulSoup(response.html.text, 'html.parser').find('table')\n",
    "# # for child in tbl:\n",
    "# #     a = child.find('a')\n",
    "# #     if a != -1:\n",
    "# #         print(a.content)\n",
    "\n",
    "tbl = response.html.find('table')[0].find('tbody')[0]\n",
    "for a in tbl.find('a'):\n",
    "    print(a.text)"
   ]
  },
  {
   "cell_type": "code",
   "execution_count": 7,
   "metadata": {},
   "outputs": [],
   "source": [
    "try:\n",
    "    response = session.get('http://q.10jqka.com.cn/thshy/detail/field/199112/order/desc/page/2/ajax/1/code/881166', cookies=dict(v = 'AxHOYlaZFF49iHhKwaTeS4O6IBaufoXwL_IpBPOmDVj3mj-IO86VwL9COdWA'))\n",
    "     \n",
    "except requests.exceptions.RequestException as e:\n",
    "    print(e)"
   ]
  }
 ],
 "metadata": {
  "interpreter": {
   "hash": "c0b904da3c79e60b03275d405e15e4e7397ab048218fb7d72b8ac1edb3c708e5"
  },
  "kernelspec": {
   "display_name": "venv",
   "language": "python",
   "name": "venv"
  },
  "language_info": {
   "codemirror_mode": {
    "name": "ipython",
    "version": 3
   },
   "file_extension": ".py",
   "mimetype": "text/x-python",
   "name": "python",
   "nbconvert_exporter": "python",
   "pygments_lexer": "ipython3",
   "version": "3.11.9"
  }
 },
 "nbformat": 4,
 "nbformat_minor": 4
}
