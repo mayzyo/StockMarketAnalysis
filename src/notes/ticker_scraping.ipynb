{
 "cells": [
  {
   "cell_type": "code",
   "execution_count": 146,
   "metadata": {},
   "outputs": [],
   "source": [
    "import requests\n",
    "from bs4 import BeautifulSoup"
   ]
  },
  {
   "cell_type": "code",
   "execution_count": 119,
   "metadata": {},
   "outputs": [],
   "source": [
    "session = HTMLSession()\n",
    "\n",
    "try:\n",
    "    response = session.get('http://data.10jqka.com.cn/funds/hyzjl/')\n",
    "     \n",
    "except requests.exceptions.RequestException as e:\n",
    "    print(e)"
   ]
  },
  {
   "cell_type": "code",
   "execution_count": 120,
   "metadata": {},
   "outputs": [
    {
     "name": "stdout",
     "output_type": "stream",
     "text": [
      "{'汽车服务': 'http://q.10jqka.com.cn/thshy/detail/code/881128/', '食品加工制造': 'http://q.10jqka.com.cn/thshy/detail/code/881134/', '金属新材料': 'http://q.10jqka.com.cn/thshy/detail/code/881114/', '传媒': 'http://q.10jqka.com.cn/thshy/detail/code/881164/', '景点及旅游': 'http://q.10jqka.com.cn/thshy/detail/code/881160/', '半导体及元件': 'http://q.10jqka.com.cn/thshy/detail/code/881121/', '农业服务': 'http://q.10jqka.com.cn/thshy/detail/code/881104/', '电子化学品': 'http://q.10jqka.com.cn/thshy/detail/code/881172/', '养殖业': 'http://q.10jqka.com.cn/thshy/detail/code/881102/', '饮料制造': 'http://q.10jqka.com.cn/thshy/detail/code/881133/', '医疗服务': 'http://q.10jqka.com.cn/thshy/detail/code/881175/', '国防军工': 'http://q.10jqka.com.cn/thshy/detail/code/881166/', '黑色家电': 'http://q.10jqka.com.cn/thshy/detail/code/881132/', '美容护理': 'http://q.10jqka.com.cn/thshy/detail/code/881182/', '农产品加工': 'http://q.10jqka.com.cn/thshy/detail/code/881103/', '机场航运': 'http://q.10jqka.com.cn/thshy/detail/code/881151/', '光学光电子': 'http://q.10jqka.com.cn/thshy/detail/code/881122/', '互联网电商': 'http://q.10jqka.com.cn/thshy/detail/code/881177/', '零售': 'http://q.10jqka.com.cn/thshy/detail/code/881158/', '贸易': 'http://q.10jqka.com.cn/thshy/detail/code/881159/', '物流': 'http://q.10jqka.com.cn/thshy/detail/code/881152/', '汽车整车': 'http://q.10jqka.com.cn/thshy/detail/code/881125/', '通信设备': 'http://q.10jqka.com.cn/thshy/detail/code/881129/', '其他电子': 'http://q.10jqka.com.cn/thshy/detail/code/881123/', '酒店及餐饮': 'http://q.10jqka.com.cn/thshy/detail/code/881161/', '房地产服务': 'http://q.10jqka.com.cn/thshy/detail/code/881176/', '消费电子': 'http://q.10jqka.com.cn/thshy/detail/code/881124/', '计算机应用': 'http://q.10jqka.com.cn/thshy/detail/code/881163/', '化学制药': 'http://q.10jqka.com.cn/thshy/detail/code/881140/', '计算机设备': 'http://q.10jqka.com.cn/thshy/detail/code/881130/', '纺织制造': 'http://q.10jqka.com.cn/thshy/detail/code/881135/', '化工合成材料': 'http://q.10jqka.com.cn/thshy/detail/code/881110/', '汽车零部件': 'http://q.10jqka.com.cn/thshy/detail/code/881126/', '种植业与林业': 'http://q.10jqka.com.cn/thshy/detail/code/881101/', '中药': 'http://q.10jqka.com.cn/thshy/detail/code/881141/', '通信服务': 'http://q.10jqka.com.cn/thshy/detail/code/881162/', '专用设备': 'http://q.10jqka.com.cn/thshy/detail/code/881118/', '综合': 'http://q.10jqka.com.cn/thshy/detail/code/881165/', '自动化设备': 'http://q.10jqka.com.cn/thshy/detail/code/881171/', '通用设备': 'http://q.10jqka.com.cn/thshy/detail/code/881117/', '服装家纺': 'http://q.10jqka.com.cn/thshy/detail/code/881136/', '小金属': 'http://q.10jqka.com.cn/thshy/detail/code/881170/', '建筑装饰': 'http://q.10jqka.com.cn/thshy/detail/code/881116/', '电力设备': 'http://q.10jqka.com.cn/thshy/detail/code/881120/', '石油加工贸易': 'http://q.10jqka.com.cn/thshy/detail/code/881180/', '包装印刷': 'http://q.10jqka.com.cn/thshy/detail/code/881138/', '港口航运': 'http://q.10jqka.com.cn/thshy/detail/code/881148/', '非汽车交运': 'http://q.10jqka.com.cn/thshy/detail/code/881127/', '化学原料': 'http://q.10jqka.com.cn/thshy/detail/code/881108/', '白色家电': 'http://q.10jqka.com.cn/thshy/detail/code/881131/'}\n"
     ]
    }
   ],
   "source": [
    "tbl = BeautifulSoup(response.html.full_text, 'html.parser').find('table').find('tbody')\n",
    "industries = dict()\n",
    "\n",
    "for child in tbl:\n",
    "    a = child.find('a')\n",
    "    if a != -1:\n",
    "        industries[a.contents[0]] = a.get('href')\n",
    "\n",
    "print(industries)"
   ]
  },
  {
   "cell_type": "code",
   "execution_count": 121,
   "metadata": {},
   "outputs": [],
   "source": [
    "try:\n",
    "    response = session.get(industries['国防军工'])\n",
    "     \n",
    "except requests.exceptions.RequestException as e:\n",
    "    print(e)"
   ]
  },
  {
   "cell_type": "code",
   "execution_count": 131,
   "metadata": {},
   "outputs": [
    {
     "name": "stdout",
     "output_type": "stream",
     "text": [
      "300629\n",
      "新劲刚\n",
      "\n",
      "300777\n",
      "中简科技\n",
      "\n",
      "002297\n",
      "博云新材\n",
      "\n",
      "300034\n",
      "钢研高纳\n",
      "\n",
      "688239\n",
      "航宇科技\n",
      "\n",
      "300159\n",
      "新研股份\n",
      "\n",
      "002189\n",
      "中光学\n",
      "\n",
      "300600\n",
      "国瑞科技\n",
      "\n",
      "300627\n",
      "华测导航\n",
      "\n",
      "002013\n",
      "中航机电\n",
      "\n",
      "600038\n",
      "中直股份\n",
      "\n",
      "600893\n",
      "航发动力\n",
      "\n",
      "002025\n",
      "航天电器\n",
      "\n",
      "600150\n",
      "中国船舶\n",
      "\n",
      "000519\n",
      "中兵红箭\n",
      "\n",
      "600316\n",
      "洪都航空\n",
      "\n",
      "300447\n",
      "全信股份\n",
      "\n",
      "688272\n",
      "富吉瑞\n",
      "\n",
      "000768\n",
      "中航西飞\n",
      "\n",
      "002414\n",
      "高德红外\n",
      "\n"
     ]
    }
   ],
   "source": [
    "# # BeautifulSoup(response.html.text, 'html.parser').find('table')\n",
    "# # for child in tbl:\n",
    "# #     a = child.find('a')\n",
    "# #     if a != -1:\n",
    "# #         print(a.content)\n",
    "\n",
    "tbl = response.html.find('table')[0].find('tbody')[0]\n",
    "for a in tbl.find('a'):\n",
    "    print(a.text)"
   ]
  },
  {
   "cell_type": "code",
   "execution_count": 170,
   "metadata": {},
   "outputs": [],
   "source": [
    "try:\n",
    "    response = session.get('http://q.10jqka.com.cn/thshy/detail/field/199112/order/desc/page/2/ajax/1/code/881166', cookies=dict(v = 'AxHOYlaZFF49iHhKwaTeS4O6IBaufoXwL_IpBPOmDVj3mj-IO86VwL9COdWA'))\n",
    "     \n",
    "except requests.exceptions.RequestException as e:\n",
    "    print(e)"
   ]
  }
 ],
 "metadata": {
  "interpreter": {
   "hash": "c0b904da3c79e60b03275d405e15e4e7397ab048218fb7d72b8ac1edb3c708e5"
  },
  "kernelspec": {
   "display_name": "Python 3.8.0 64-bit ('StockMarketAnalysis': venv)",
   "name": "python3"
  },
  "language_info": {
   "codemirror_mode": {
    "name": "ipython",
    "version": 3
   },
   "file_extension": ".py",
   "mimetype": "text/x-python",
   "name": "python",
   "nbconvert_exporter": "python",
   "pygments_lexer": "ipython3",
   "version": "3.8.0"
  },
  "orig_nbformat": 4
 },
 "nbformat": 4,
 "nbformat_minor": 2
}
