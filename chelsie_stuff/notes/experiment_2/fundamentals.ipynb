{
 "cells": [
  {
   "cell_type": "markdown",
   "metadata": {},
   "source": [
    "# 需求描述\n",
    "1. 国家是否扶持\n",
    "    * 找industry (boolean)\n",
    "    * 更改后续权重\n",
    "3. 市净率\n",
    "    * 小于20%\n",
    "4. 是否盈利\n",
    "    * 是\n",
    "5. 找市值\n",
    "    * 超过100亿\n",
    "    * 不看超过2500"
   ]
  },
  {
   "cell_type": "code",
   "execution_count": 2,
   "metadata": {},
   "outputs": [],
   "source": [
    "# Load dependencies\n",
    "import yfinance as yf\n",
    "import math\n",
    "# I HATE PYTHON IMPORT SO MUCH. DUPLICATING helpers.py here so I don't have to deal with it.\n",
    "from helpers import load_txt"
   ]
  },
  {
   "cell_type": "code",
   "execution_count": 3,
   "metadata": {},
   "outputs": [
    {
     "data": {
      "text/html": [
       "<div>\n",
       "<style scoped>\n",
       "    .dataframe tbody tr th:only-of-type {\n",
       "        vertical-align: middle;\n",
       "    }\n",
       "\n",
       "    .dataframe tbody tr th {\n",
       "        vertical-align: top;\n",
       "    }\n",
       "\n",
       "    .dataframe thead th {\n",
       "        text-align: right;\n",
       "    }\n",
       "</style>\n",
       "<table border=\"1\" class=\"dataframe\">\n",
       "  <thead>\n",
       "    <tr style=\"text-align: right;\">\n",
       "      <th></th>\n",
       "      <th>代码</th>\n",
       "      <th>名称</th>\n",
       "      <th>总市值</th>\n",
       "      <th>流通市值</th>\n",
       "      <th>净利润?</th>\n",
       "      <th>市净率</th>\n",
       "      <th>每股盈利</th>\n",
       "      <th>细分行业</th>\n",
       "      <th>所属行业</th>\n",
       "    </tr>\n",
       "  </thead>\n",
       "  <tbody>\n",
       "    <tr>\n",
       "      <th>0</th>\n",
       "      <td>600000.SS</td>\n",
       "      <td>浦发银行</td>\n",
       "      <td>253896230000</td>\n",
       "      <td>253896230000</td>\n",
       "      <td>41536000000</td>\n",
       "      <td>0.459</td>\n",
       "      <td>1.34</td>\n",
       "      <td>股份制银行</td>\n",
       "      <td>银行</td>\n",
       "    </tr>\n",
       "    <tr>\n",
       "      <th>1</th>\n",
       "      <td>600004.SS</td>\n",
       "      <td>白云机场</td>\n",
       "      <td>28329618000</td>\n",
       "      <td>24769767000</td>\n",
       "      <td>-490145410</td>\n",
       "      <td>1.550</td>\n",
       "      <td>-0.210</td>\n",
       "      <td>机场</td>\n",
       "      <td>机场航运</td>\n",
       "    </tr>\n",
       "    <tr>\n",
       "      <th>2</th>\n",
       "      <td>600006.SS</td>\n",
       "      <td>东风汽车</td>\n",
       "      <td>13940000000</td>\n",
       "      <td>13940000000</td>\n",
       "      <td>513990960</td>\n",
       "      <td>1.710</td>\n",
       "      <td>0.257</td>\n",
       "      <td>商用载货车</td>\n",
       "      <td>汽车整车</td>\n",
       "    </tr>\n",
       "    <tr>\n",
       "      <th>3</th>\n",
       "      <td>600007.SS</td>\n",
       "      <td>中国国贸</td>\n",
       "      <td>14484723000</td>\n",
       "      <td>14484723000</td>\n",
       "      <td>775740970</td>\n",
       "      <td>1.730</td>\n",
       "      <td>0.770</td>\n",
       "      <td>商业地产</td>\n",
       "      <td>房地产开发</td>\n",
       "    </tr>\n",
       "    <tr>\n",
       "      <th>4</th>\n",
       "      <td>600008.SS</td>\n",
       "      <td>首创环保</td>\n",
       "      <td>23636702000</td>\n",
       "      <td>23636702000</td>\n",
       "      <td>1914004000</td>\n",
       "      <td>1.360</td>\n",
       "      <td>0.261</td>\n",
       "      <td>综合环境治理</td>\n",
       "      <td>环保</td>\n",
       "    </tr>\n",
       "  </tbody>\n",
       "</table>\n",
       "</div>"
      ],
      "text/plain": [
       "          代码     名称           总市值          流通市值         净利润?    市净率    每股盈利  \\\n",
       "0  600000.SS   浦发银行  253896230000  253896230000  41536000000  0.459    1.34   \n",
       "1  600004.SS   白云机场   28329618000   24769767000   -490145410  1.550  -0.210   \n",
       "2  600006.SS   东风汽车   13940000000   13940000000    513990960  1.710   0.257   \n",
       "3  600007.SS   中国国贸   14484723000   14484723000    775740970  1.730   0.770   \n",
       "4  600008.SS   首创环保   23636702000   23636702000   1914004000  1.360   0.261   \n",
       "\n",
       "     细分行业   所属行业  \n",
       "0   股份制银行     银行  \n",
       "1      机场   机场航运  \n",
       "2   商用载货车   汽车整车  \n",
       "3    商业地产  房地产开发  \n",
       "4  综合环境治理     环保  "
      ]
     },
     "execution_count": 3,
     "metadata": {},
     "output_type": "execute_result"
    }
   ],
   "source": [
    "# 代码、名称、细分产业、所属行业、市净率、每股盈利、总市值、净利润?\n",
    "stocks = load_txt('../experiment_3/tables2')\n",
    "stocks.head()"
   ]
  },
  {
   "cell_type": "markdown",
   "metadata": {},
   "source": [
    "## 国家是否扶持"
   ]
  },
  {
   "cell_type": "code",
   "execution_count": 5,
   "metadata": {},
   "outputs": [
    {
     "data": {
      "text/plain": [
       "False"
      ]
     },
     "execution_count": 5,
     "metadata": {},
     "output_type": "execute_result"
    }
   ],
   "source": [
    "def industry_check_yh(stock, dict, ind=['Electronic Components', 'Metal Fabrication']):\n",
    "    dict['industry'] = stock.info['industry']\n",
    "    return stock.info['industry'] in ind\n",
    "\n",
    "def industry_check_ths(stock, ind=[]):\n",
    "    return stock['细分行业'] in ind\n",
    "\n",
    "# industry_check_ths(stocks[stocks['代码'] == '600435.SS'])"
   ]
  },
  {
   "cell_type": "markdown",
   "metadata": {},
   "source": [
    "## 市净率 (P/B Ratio)"
   ]
  },
  {
   "cell_type": "code",
   "execution_count": 13,
   "metadata": {},
   "outputs": [],
   "source": [
    "def pb_check_yh(stock, dict, cutoff=20):\n",
    "    if 'priceToBook' in stock.info:\n",
    "        dict['priceToBook'] = stock.info['priceToBook']\n",
    "        return stock.info['priceToBook'] < cutoff\n",
    "    else:\n",
    "        print('错误：数据源未提供市净率')\n",
    "        return False\n",
    "\n",
    "def pb_check_ths(stock, cutoff=20):\n",
    "    return stock['市净率'] < cutoff\n",
    "\n",
    "# pb_check_ths(stocks[stocks['代码'] == '600435.SS'])"
   ]
  },
  {
   "cell_type": "markdown",
   "metadata": {},
   "source": [
    "## 是否盈利"
   ]
  },
  {
   "cell_type": "code",
   "execution_count": 14,
   "metadata": {},
   "outputs": [],
   "source": [
    "def profitable_check_yh(stock, dict, key='profitMargins'):\n",
    "    if key in stock.info:\n",
    "        dict[key] = stock.info[key]\n",
    "        return stock.info['priceToBook']\n",
    "    else:\n",
    "        print('错误：数据源未提供盈利数据')\n",
    "        return False\n",
    "\n",
    "def profitable_check_ths(stock, key='净利润?'):\n",
    "    return stock[key] != '--'\n",
    "\n",
    "# profitable_check_ths(stocks[stocks['代码'] == '600435.SS'])"
   ]
  },
  {
   "cell_type": "markdown",
   "metadata": {},
   "source": [
    "## 找市值"
   ]
  },
  {
   "cell_type": "code",
   "execution_count": 15,
   "metadata": {},
   "outputs": [],
   "source": [
    "def  cap_check_yh(stock, dict, min=100, max=2500):\n",
    "    yi = math.pow(10, 8) # 一亿\n",
    "    if 'marketCap' in stock.info:\n",
    "        dict['marketCap'] = stock.info['marketCap'] / yi\n",
    "        return (stock.info['marketCap'] >= min * yi) & (stock.info['marketCap'] <= max * yi)\n",
    "    else:\n",
    "        print('错误：数据源未提供市值')\n",
    "        return False\n",
    "\n",
    "def cap_check_ths(stock, min=100, max=2500):\n",
    "    yi = math.pow(10, 8) # 一亿\n",
    "    if stock['总市值'] != '--':\n",
    "        return (int(stock['总市值']) >= min * yi) & (int(stock['总市值']) <= max * yi)\n",
    "    else:\n",
    "        name = stock['    名称']\n",
    "        print(f'数据源未提供{name}市值')\n",
    "        return False\n",
    "\n",
    "# cap_check_ths(stocks[stocks['代码'] == '600435.SS'])"
   ]
  },
  {
   "cell_type": "code",
   "execution_count": 39,
   "metadata": {},
   "outputs": [],
   "source": [
    "# 基础分析\n",
    "def fundamentals(industries=None, tickers=None, debug=False):\n",
    "    # 代码、名称、细分行业、所属行业、市净率、每股盈利、总市值、净利润?\n",
    "    stocks = load_txt('../experiment_3/tables2')\n",
    "    qualified = []\n",
    "\n",
    "    if industries == None:\n",
    "        industries = stocks['细分行业'].unique()\n",
    "\n",
    "    if tickers != None:\n",
    "        stocks = stocks.loc[stocks['代码'].isin(tickers)]\n",
    "\n",
    "    for index, row in stocks.iterrows():\n",
    "        if check_stock_ths(row, industries, debug == True or tickers != None):\n",
    "            qualified.append(row['代码'])\n",
    "            name = row['    名称']\n",
    "            ticker = row['代码']\n",
    "            print(f'{name}({ticker})满足长线条件...')\n",
    "\n",
    "    return qualified\n",
    "\n",
    "def check_stock_yh(stock, debug=False):\n",
    "    out = {}\n",
    "    if industry_check_yh(stock, out) == False:\n",
    "        if debug: print('%s的行业不符合条件'%stock.ticker)\n",
    "        return False\n",
    "    elif pb_check_yh(stock, out) == False:\n",
    "        if debug: print('%s的市净率不符合条件'%stock.ticker)\n",
    "        return False\n",
    "    elif profitable_check_yh(stock, out) == False:\n",
    "        if debug: print('%s的当前未盈利'%stock.ticker)\n",
    "        return False\n",
    "    elif cap_check_yh(stock, out) == False:\n",
    "        if debug: print('%s的市值不符合条件'%stock.ticker)\n",
    "        return False\n",
    "\n",
    "    if debug: print('%满足长线条件...'%stock.info['shortName'])\n",
    "    return out\n",
    "\n",
    "def check_stock_ths(stock, industries, output=False):\n",
    "    if industry_check_ths(stock, industries) == False:\n",
    "        if output: print('%s的产业不符合条件'%stock['    名称'])\n",
    "        return False\n",
    "    elif pb_check_ths(stock) == False:\n",
    "        if output: print('%s的市净率不符合条件'%stock['    名称'])\n",
    "        return False\n",
    "    elif profitable_check_ths(stock) == False:\n",
    "        if output: print('%s的当前未盈利'%stock['    名称'])\n",
    "        return False\n",
    "    elif cap_check_ths(stock) == False:\n",
    "        if output: print('%s的市值不符合条件'%stock['    名称'])\n",
    "        return False\n",
    "    return True\n",
    "\n",
    "def show_industries():\n",
    "    stocks = load_txt('../experiment_3/tables2')\n",
    "    print(stocks['细分行业'].unique())"
   ]
  },
  {
   "cell_type": "code",
   "execution_count": 40,
   "metadata": {},
   "outputs": [
    {
     "name": "stdout",
     "output_type": "stream",
     "text": [
      "航天机电(600151.SS)满足长线条件...\n",
      "通威股份(600438.SS)满足长线条件...\n",
      "爱旭股份(600732.SS)满足长线条件...\n",
      "洛阳玻璃(600876.SS)满足长线条件...\n",
      "福莱特(601865.SS)满足长线条件...\n",
      "上机数控(603185.SS)满足长线条件...\n",
      "赛伍技术(603212.SS)满足长线条件...\n",
      "金辰股份(603396.SS)满足长线条件...\n",
      "福斯特(603806.SS)满足长线条件...\n",
      "大全能源(688303.SS)满足长线条件...\n",
      "中信博(688408.SS)满足长线条件...\n",
      "奥特维(688516.SS)满足长线条件...\n",
      "高测股份(688556.SS)满足长线条件...\n",
      "金博股份(688598.SS)满足长线条件...\n",
      "天合光能(688599.SS)满足长线条件...\n",
      "海优新材(688680.SS)满足长线条件...\n",
      "中环股份(002129.SZ)满足长线条件...\n",
      "拓日新能(002218.SZ)满足长线条件...\n",
      "晶澳科技(002459.SZ)满足长线条件...\n",
      "协鑫集成(002506.SZ)满足长线条件...\n",
      "爱康科技(002610.SZ)满足长线条件...\n",
      "联泓新科(003022.SZ)满足长线条件...\n",
      "易成新能(300080.SZ)满足长线条件...\n",
      "东方日升(300118.SZ)满足长线条件...\n",
      "阳光电源(300274.SZ)满足长线条件...\n",
      "晶盛机电(300316.SZ)满足长线条件...\n",
      "中来股份(300393.SZ)满足长线条件...\n",
      "捷佳伟创(300724.SZ)满足长线条件...\n",
      "帝尔激光(300776.SZ)满足长线条件...\n",
      "上能电气(300827.SZ)满足长线条件...\n"
     ]
    },
    {
     "data": {
      "text/plain": [
       "['600151.SS',\n",
       " '600438.SS',\n",
       " '600732.SS',\n",
       " '600876.SS',\n",
       " '601865.SS',\n",
       " '603185.SS',\n",
       " '603212.SS',\n",
       " '603396.SS',\n",
       " '603806.SS',\n",
       " '688303.SS',\n",
       " '688408.SS',\n",
       " '688516.SS',\n",
       " '688556.SS',\n",
       " '688598.SS',\n",
       " '688599.SS',\n",
       " '688680.SS',\n",
       " '002129.SZ',\n",
       " '002218.SZ',\n",
       " '002459.SZ',\n",
       " '002506.SZ',\n",
       " '002610.SZ',\n",
       " '003022.SZ',\n",
       " '300080.SZ',\n",
       " '300118.SZ',\n",
       " '300274.SZ',\n",
       " '300316.SZ',\n",
       " '300393.SZ',\n",
       " '300724.SZ',\n",
       " '300776.SZ',\n",
       " '300827.SZ']"
      ]
     },
     "execution_count": 40,
     "metadata": {},
     "output_type": "execute_result"
    }
   ],
   "source": [
    "# show_industries()\n",
    "fundamentals(['光伏设备'])"
   ]
  }
 ],
 "metadata": {
  "interpreter": {
   "hash": "c0b904da3c79e60b03275d405e15e4e7397ab048218fb7d72b8ac1edb3c708e5"
  },
  "kernelspec": {
   "display_name": "venv",
   "language": "python",
   "name": "venv"
  },
  "language_info": {
   "codemirror_mode": {
    "name": "ipython",
    "version": 3
   },
   "file_extension": ".py",
   "mimetype": "text/x-python",
   "name": "python",
   "nbconvert_exporter": "python",
   "pygments_lexer": "ipython3",
   "version": "3.11.9"
  }
 },
 "nbformat": 4,
 "nbformat_minor": 4
}
